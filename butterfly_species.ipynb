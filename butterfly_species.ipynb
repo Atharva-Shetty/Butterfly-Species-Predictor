{
 "cells": [
  {
   "cell_type": "code",
   "execution_count": 1,
   "id": "grand-handle",
   "metadata": {},
   "outputs": [
    {
     "name": "stderr",
     "output_type": "stream",
     "text": [
      "2022-12-27 16:50:12.542785: W tensorflow/stream_executor/platform/default/dso_loader.cc:64] Could not load dynamic library 'libcudart.so.11.0'; dlerror: libcudart.so.11.0: cannot open shared object file: No such file or directory\n",
      "2022-12-27 16:50:12.542809: I tensorflow/stream_executor/cuda/cudart_stub.cc:29] Ignore above cudart dlerror if you do not have a GPU set up on your machine.\n"
     ]
    }
   ],
   "source": [
    "import numpy as np\n",
    "import pandas as pd\n",
    "import matplotlib.pyplot as plt \n",
    "import tensorflow as tf "
   ]
  },
  {
   "cell_type": "code",
   "execution_count": 2,
   "id": "egyptian-entrepreneur",
   "metadata": {},
   "outputs": [],
   "source": [
    "train_dir = \"./train/\"\n",
    "test_dir = \"./valid/\""
   ]
  },
  {
   "cell_type": "code",
   "execution_count": null,
   "id": "signal-guarantee",
   "metadata": {},
   "outputs": [],
   "source": [
    "import tensorflow as tf\n",
    "IMG_SIZE = (224, 224)\n",
    "train_data = tf.keras.preprocessing.image_dataset_from_directory(train_dir,\n",
    "                                                                label_mode=\"categorical\",\n",
    "                                                                image_size=IMG_SIZE\n",
    "                                                                )\n",
    "                                                                                \n",
    "test_data = tf.keras.preprocessing.image_dataset_from_directory(test_dir,\n",
    "                                                                label_mode=\"categorical\",\n",
    "                                                                image_size=IMG_SIZE,\n",
    "                                                                shuffle=False\n",
    "                                                               ) "
   ]
  },
  {
   "cell_type": "code",
   "execution_count": 12,
   "id": "convinced-receiver",
   "metadata": {},
   "outputs": [],
   "source": [
    "checkpoint_path = \"butterfly\"\n",
    "checkpoint_callback = tf.keras.callbacks.ModelCheckpoint(checkpoint_path,\n",
    "                                                         save_weights_only=True, \n",
    "                                                         monitor=\"val_accuracy\", \n",
    "                                                         save_best_only=True) "
   ]
  },
  {
   "cell_type": "code",
   "execution_count": 15,
   "id": "driven-center",
   "metadata": {},
   "outputs": [],
   "source": [
    "from tensorflow.keras import layers\n",
    "from tensorflow.keras.layers.experimental import preprocessing\n",
    "from tensorflow.keras.models import Sequential\n",
    "\n",
    "\n",
    "data_augmentation = Sequential([\n",
    "  preprocessing.RandomFlip(\"horizontal\"),\n",
    "  preprocessing.RandomRotation(0.2), \n",
    "  preprocessing.RandomHeight(0.2), \n",
    "  preprocessing.RandomWidth(0.2), \n",
    "  preprocessing.RandomZoom(0.2), \n",
    "], name=\"data_augmentation\")"
   ]
  },
  {
   "cell_type": "code",
   "execution_count": 16,
   "id": "prescribed-cement",
   "metadata": {},
   "outputs": [
    {
     "name": "stdout",
     "output_type": "stream",
     "text": [
      "Downloading data from https://storage.googleapis.com/keras-applications/efficientnetb0_notop.h5\n",
      "16711680/16705208 [==============================] - 28s 2us/step\n",
      "16719872/16705208 [==============================] - 28s 2us/step\n"
     ]
    }
   ],
   "source": [
    "base_model = tf.keras.applications.EfficientNetB0(include_top=False)\n",
    "base_model.trainable = False\n",
    "\n",
    "\n",
    "inputs = layers.Input(shape=(224, 224, 3), name=\"input_layer\") \n",
    "x = data_augmentation(inputs)\n",
    "x = base_model(x, training=False)ract features without updating the weights\n",
    "x = layers.GlobalAveragePooling2D(name=\"global_average_pooling\")(x) \n",
    "outputs = layers.Dense(len(train_data.class_names), activation=\"softmax\", name=\"output_layer\")(x)\n",
    "model = tf.keras.Model(inputs, outputs)"
   ]
  },
  {
   "cell_type": "code",
   "execution_count": 17,
   "id": "vulnerable-hindu",
   "metadata": {},
   "outputs": [
    {
     "name": "stdout",
     "output_type": "stream",
     "text": [
      "Epoch 1/5\n",
      "395/395 [==============================] - 546s 1s/step - loss: 1.7483 - accuracy: 0.6800 - val_loss: 0.8509 - val_accuracy: 0.8281\n",
      "Epoch 2/5\n",
      "395/395 [==============================] - 502s 1s/step - loss: 0.6236 - accuracy: 0.8776 - val_loss: 0.5280 - val_accuracy: 0.9219\n",
      "Epoch 3/5\n",
      "395/395 [==============================] - 493s 1s/step - loss: 0.4358 - accuracy: 0.9057 - val_loss: 0.4450 - val_accuracy: 0.9375\n",
      "Epoch 4/5\n",
      "395/395 [==============================] - 535s 1s/step - loss: 0.3459 - accuracy: 0.9237 - val_loss: 0.4187 - val_accuracy: 0.9375\n",
      "Epoch 5/5\n",
      "395/395 [==============================] - 491s 1s/step - loss: 0.2949 - accuracy: 0.9329 - val_loss: 0.3912 - val_accuracy: 0.9531\n"
     ]
    }
   ],
   "source": [
    "model.compile(loss=\"categorical_crossentropy\",\n",
    "              optimizer=tf.keras.optimizers.Adam(), \n",
    "              metrics=[\"accuracy\"])\n",
    "\n",
    "# Fit\n",
    "history = model.fit(train_data,\n",
    "                    epochs=5,\\\n",
    "                    validation_data=test_data,\n",
    "                    validation_steps=int(0.15 * len(test_data)), \n",
    "                    callbacks=[checkpoint_callback]\n",
    "                   )"
   ]
  },
  {
   "cell_type": "code",
   "execution_count": 19,
   "id": "olive-mortgage",
   "metadata": {},
   "outputs": [
    {
     "name": "stdout",
     "output_type": "stream",
     "text": [
      "16/16 [==============================] - 19s 1s/step - loss: 0.3908 - accuracy: 0.9220\n"
     ]
    },
    {
     "data": {
      "text/plain": [
       "[0.3907508850097656, 0.921999990940094]"
      ]
     },
     "execution_count": 19,
     "metadata": {},
     "output_type": "execute_result"
    }
   ],
   "source": [
    "results_feature_extraction_model = model.evaluate(test_data)\n",
    "results_feature_extraction_model"
   ]
  },
  {
   "cell_type": "code",
   "execution_count": 18,
   "id": "after-tonight",
   "metadata": {},
   "outputs": [],
   "source": [
    "model.save('./butterflymodel.h5')"
   ]
  }
 ],
 "metadata": {
  "kernelspec": {
   "display_name": "Python 3 (ipykernel)",
   "language": "python",
   "name": "python3"
  },
  "language_info": {
   "codemirror_mode": {
    "name": "ipython",
    "version": 3
   },
   "file_extension": ".py",
   "mimetype": "text/x-python",
   "name": "python",
   "nbconvert_exporter": "python",
   "pygments_lexer": "ipython3",
   "version": "3.9.2"
  },
  "varInspector": {
   "cols": {
    "lenName": 16,
    "lenType": 16,
    "lenVar": 40
   },
   "kernels_config": {
    "python": {
     "delete_cmd_postfix": "",
     "delete_cmd_prefix": "del ",
     "library": "var_list.py",
     "varRefreshCmd": "print(var_dic_list())"
    },
    "r": {
     "delete_cmd_postfix": ") ",
     "delete_cmd_prefix": "rm(",
     "library": "var_list.r",
     "varRefreshCmd": "cat(var_dic_list()) "
    }
   },
   "types_to_exclude": [
    "module",
    "function",
    "builtin_function_or_method",
    "instance",
    "_Feature"
   ],
   "window_display": false
  }
 },
 "nbformat": 4,
 "nbformat_minor": 5
}
